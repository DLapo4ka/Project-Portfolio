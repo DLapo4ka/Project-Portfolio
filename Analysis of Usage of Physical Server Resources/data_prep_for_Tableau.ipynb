{
  "cells": [
    {
      "cell_type": "markdown",
      "source": [
        "# Preparation for Tableau"
      ],
      "metadata": {
        "collapsed": false,
        "id": "EDGXn0Rd44Vb"
      }
    },
    {
      "cell_type": "code",
      "execution_count": null,
      "outputs": [],
      "source": [
        "import pandas as pd\n",
        "from datetime import date"
      ],
      "metadata": {
        "id": "EmeKvzjF44Ve"
      }
    },
    {
      "cell_type": "code",
      "execution_count": null,
      "outputs": [],
      "source": [
        "data_ml = pd.read_csv('data_ml.csv')\n",
        "data_ml.drop(['Unnamed: 0'], axis=1, inplace=True)\n",
        "data_ml.rename(columns={'cluster_label':'cluster'}, inplace=True)\n",
        "data_ml.set_index(['metric.instance', 'metric.job', 'metric.team', 'cluster'], inplace=True)"
      ],
      "metadata": {
        "id": "tWh3cX1o44Vf"
      }
    },
    {
      "cell_type": "code",
      "execution_count": null,
      "outputs": [],
      "source": [
        "data_ml.head()"
      ],
      "metadata": {
        "id": "9EaMz7xL44Vg"
      }
    },
    {
      "cell_type": "code",
      "execution_count": null,
      "outputs": [],
      "source": [
        "data_ml.describe()"
      ],
      "metadata": {
        "id": "UQuMJau544Vg"
      }
    },
    {
      "cell_type": "code",
      "execution_count": null,
      "outputs": [],
      "source": [
        "data_vis = pd.DataFrame()"
      ],
      "metadata": {
        "id": "uGspyy2644Vg"
      }
    },
    {
      "cell_type": "code",
      "execution_count": null,
      "outputs": [],
      "source": [
        "for i in range(30):\n",
        "    temp = pd.DataFrame(data_ml.iloc[:,i])\n",
        "    temp['cpu'] = data_ml.iloc[:,i+30]\n",
        "    temp['disk'] = data_ml.iloc[:,i+60]\n",
        "    if i < 4:\n",
        "        temp['day'] = date(2023, 6, 4-i)\n",
        "    else:\n",
        "        temp['day'] = date(2023, 5, 31-(i-4))\n",
        "    temp.set_axis(['memory', 'cpu', 'disk', 'day'], axis=1, inplace=True)\n",
        "    data_vis = pd.concat([data_vis, temp])\n",
        "data_vis.reset_index(inplace=True)\n",
        "data_vis.set_index(['metric.instance', 'metric.job', 'metric.team', 'cluster', 'day'], inplace=True)"
      ],
      "metadata": {
        "id": "qYoeVqnG44Vg"
      }
    },
    {
      "cell_type": "code",
      "execution_count": null,
      "outputs": [],
      "source": [
        "data_vis"
      ],
      "metadata": {
        "id": "GuWG70UJ44Vh"
      }
    },
    {
      "cell_type": "code",
      "execution_count": null,
      "outputs": [],
      "source": [
        "data_vis.info()"
      ],
      "metadata": {
        "id": "u1wlrsCr44Vh"
      }
    },
    {
      "cell_type": "code",
      "execution_count": null,
      "outputs": [],
      "source": [
        "data_vis.describe()"
      ],
      "metadata": {
        "id": "VUcIlD8u44Vi"
      }
    },
    {
      "cell_type": "code",
      "execution_count": null,
      "outputs": [],
      "source": [
        "# data_vis.to_csv('data_to_visualise.csv')"
      ],
      "metadata": {
        "id": "ifktZhkY44Vi"
      }
    },
    {
      "cell_type": "code",
      "execution_count": null,
      "outputs": [],
      "source": [
        "data_vis.reset_index()"
      ],
      "metadata": {
        "id": "9E_qoMS744Vi"
      }
    },
    {
      "cell_type": "code",
      "execution_count": null,
      "outputs": [],
      "source": [
        "def load_csv():\n",
        "    return data_vis"
      ],
      "metadata": {
        "id": "SbzYtU0544Vi"
      }
    },
    {
      "cell_type": "code",
      "execution_count": null,
      "outputs": [],
      "source": [
        "!pip install jupytab-server"
      ],
      "metadata": {
        "id": "LgAr_ldL44Vi"
      }
    },
    {
      "cell_type": "code",
      "execution_count": null,
      "outputs": [],
      "source": [
        "!pip install jupytab"
      ],
      "metadata": {
        "id": "hmOKtjFq44Vj"
      }
    },
    {
      "cell_type": "code",
      "execution_count": null,
      "outputs": [],
      "source": [
        "import jupytab"
      ],
      "metadata": {
        "id": "nHZFgxZ344Vj"
      }
    },
    {
      "cell_type": "code",
      "execution_count": null,
      "outputs": [],
      "source": [
        "tables = jupytab.Tables()\n",
        "tables['load'] = jupytab.DataFrameTable('Server Load', dataframe=data_vis, include_index=True, refresh_method=load_csv)"
      ],
      "metadata": {
        "id": "_WocV7hj44Vj"
      }
    },
    {
      "cell_type": "code",
      "execution_count": null,
      "outputs": [],
      "source": [
        "# GET /schema\n",
        "tables.render_schema()"
      ],
      "metadata": {
        "id": "xuUH68Zz44Vj"
      }
    },
    {
      "cell_type": "code",
      "execution_count": null,
      "outputs": [],
      "source": [
        "# GET /data\n",
        "tables.render_data(REQUEST)"
      ],
      "metadata": {
        "id": "lmYFFzV_44Vj"
      }
    },
    {
      "cell_type": "code",
      "execution_count": null,
      "outputs": [],
      "source": [
        "!jupytab --config=config.ini"
      ],
      "metadata": {
        "id": "y05S9Nsy44Vj"
      }
    },
    {
      "cell_type": "code",
      "execution_count": null,
      "outputs": [],
      "source": [],
      "metadata": {
        "id": "jBMNi92144Vj"
      }
    }
  ],
  "metadata": {
    "kernelspec": {
      "display_name": "Python 3",
      "language": "python",
      "name": "python3"
    },
    "language_info": {
      "codemirror_mode": {
        "name": "ipython",
        "version": 2
      },
      "file_extension": ".py",
      "mimetype": "text/x-python",
      "name": "python",
      "nbconvert_exporter": "python",
      "pygments_lexer": "ipython2",
      "version": "2.7.6"
    },
    "colab": {
      "provenance": []
    }
  },
  "nbformat": 4,
  "nbformat_minor": 0
}